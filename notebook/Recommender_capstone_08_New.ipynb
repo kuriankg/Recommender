{
 "cells": [
  {
   "cell_type": "code",
   "execution_count": 1,
   "id": "527f72e7-adf4-40ca-a47f-97956e9f3962",
   "metadata": {},
   "outputs": [],
   "source": [
    "# Import necessary libraries\n",
    "import pandas as pd\n",
    "import numpy as np\n",
    "from sklearn.model_selection import train_test_split\n",
    "from sklearn.metrics import precision_score, recall_score, f1_score, average_precision_score\n",
    "from surprise import Dataset, Reader\n",
    "from surprise import SVD, accuracy\n",
    "from surprise.model_selection import train_test_split as surprise_train_test_split"
   ]
  },
  {
   "cell_type": "code",
   "execution_count": 2,
   "id": "cdb6497c-2639-436c-b964-8730ea989266",
   "metadata": {},
   "outputs": [],
   "source": [
    "# Load datasets\n",
    "customer_data = pd.read_csv(\"/Users/kuriankgeorge/Desktop/aws/Capstone/08_recommender/data/Recommnder/Customer.csv\")\n",
    "prod_cat_info = pd.read_csv(\"/Users/kuriankgeorge/Desktop/aws/Capstone/08_recommender/data/Recommnder/prod_cat_info.csv\")\n",
    "transactions = pd.read_csv(\"/Users/kuriankgeorge/Desktop/aws/Capstone/08_recommender/data/Recommnder/Transactions.csv\")"
   ]
  },
  {
   "cell_type": "code",
   "execution_count": 3,
   "id": "3a943c49-35a7-459c-a292-5b93c3467a19",
   "metadata": {},
   "outputs": [],
   "source": [
    "# Data Preprocessing\n",
    "# Merge the datasets to get product information in the transactions\n",
    "data = transactions.merge(prod_cat_info, left_on='prod_cat_code', right_on='prod_cat_code')\n",
    "data = data.merge(customer_data, left_on='cust_id', right_on='customer_Id')"
   ]
  },
  {
   "cell_type": "code",
   "execution_count": 4,
   "id": "300649a6-28a3-432a-81fd-a8ab9b34790f",
   "metadata": {},
   "outputs": [
    {
     "name": "stdout",
     "output_type": "stream",
     "text": [
      "   transaction_id  cust_id   tran_date  prod_subcat_code  prod_cat_code  Qty  \\\n",
      "0     80712190438   270351  28-02-2014                 1              1   -5   \n",
      "1     80712190438   270351  28-02-2014                 1              1   -5   \n",
      "2     80712190438   270351  28-02-2014                 1              1   -5   \n",
      "3     80712190438   270351  20-02-2014                 1              1    5   \n",
      "4     80712190438   270351  20-02-2014                 1              1    5   \n",
      "\n",
      "   Rate    Tax  total_amt Store_type  prod_cat  prod_sub_cat_code prod_subcat  \\\n",
      "0  -772  405.3    -4265.3     e-Shop  Clothing                  4        Mens   \n",
      "1  -772  405.3    -4265.3     e-Shop  Clothing                  1       Women   \n",
      "2  -772  405.3    -4265.3     e-Shop  Clothing                  3        Kids   \n",
      "3   772  405.3     4265.3     e-Shop  Clothing                  4        Mens   \n",
      "4   772  405.3     4265.3     e-Shop  Clothing                  1       Women   \n",
      "\n",
      "   customer_Id         DOB Gender  city_code  \n",
      "0       270351  26-09-1981      M        5.0  \n",
      "1       270351  26-09-1981      M        5.0  \n",
      "2       270351  26-09-1981      M        5.0  \n",
      "3       270351  26-09-1981      M        5.0  \n",
      "4       270351  26-09-1981      M        5.0  \n"
     ]
    }
   ],
   "source": [
    "print(data.head())\n"
   ]
  },
  {
   "cell_type": "code",
   "execution_count": 5,
   "id": "30ee00da-38d9-4404-bc2e-b982cbc576c0",
   "metadata": {},
   "outputs": [],
   "source": [
    "# Create a User-Item matrix for collaborative filtering\n",
    "user_item_matrix = data.pivot_table(index='cust_id', columns='prod_subcat', values='Qty', fill_value=0)\n"
   ]
  },
  {
   "cell_type": "code",
   "execution_count": 6,
   "id": "73358ff4-fa08-4f13-a568-2a44119070bb",
   "metadata": {},
   "outputs": [],
   "source": [
    "# Splitting the data into train and test sets\n",
    "train_data, test_data = train_test_split(user_item_matrix.values, test_size=0.2, random_state=42)"
   ]
  },
  {
   "cell_type": "code",
   "execution_count": 7,
   "id": "013f8793-39f8-4156-a48f-000f4e8873dc",
   "metadata": {},
   "outputs": [],
   "source": [
    "# Collaborative Filtering using SVD\n",
    "reader = Reader(rating_scale=(0, user_item_matrix.values.max()))\n",
    "surprise_data = Dataset.load_from_df(data[['cust_id', 'prod_subcat', 'Qty']], reader)\n",
    "trainset, testset = surprise_train_test_split(surprise_data, test_size=0.2)"
   ]
  },
  {
   "cell_type": "code",
   "execution_count": 8,
   "id": "42b2a268-99b0-4263-89c4-36f129afad70",
   "metadata": {},
   "outputs": [
    {
     "data": {
      "text/plain": [
       "<surprise.prediction_algorithms.matrix_factorization.SVD at 0x129b17e10>"
      ]
     },
     "execution_count": 8,
     "metadata": {},
     "output_type": "execute_result"
    }
   ],
   "source": [
    "model = SVD()\n",
    "model.fit(trainset)"
   ]
  },
  {
   "cell_type": "code",
   "execution_count": 9,
   "id": "5862e8ca-ec1c-496e-8f74-780e88f3b257",
   "metadata": {},
   "outputs": [
    {
     "name": "stdout",
     "output_type": "stream",
     "text": [
      "RMSE: 2.0199\n"
     ]
    },
    {
     "data": {
      "text/plain": [
       "2.019885423793758"
      ]
     },
     "execution_count": 9,
     "metadata": {},
     "output_type": "execute_result"
    }
   ],
   "source": [
    "# Evaluate the model\n",
    "predictions = model.test(testset)\n",
    "accuracy.rmse(predictions)"
   ]
  },
  {
   "cell_type": "code",
   "execution_count": 10,
   "id": "e2cc00a5-768a-45cd-8117-5d05cc69cecb",
   "metadata": {},
   "outputs": [],
   "source": [
    "def recommend_products(user_id, num_recommendations=5):\n",
    "    user_index = user_item_matrix.index.get_loc(user_id)\n",
    "    user_ratings = user_item_matrix.iloc[user_index]\n",
    "\n",
    "    # Get unseen products\n",
    "    unseen_products = user_ratings[user_ratings == 0]\n",
    "\n",
    "    # Predict ratings for unseen products\n",
    "    predicted_ratings = [model.predict(user_id, prod_subcat).est for prod_subcat in unseen_products.index]\n",
    "    recommendations = pd.DataFrame({'product': unseen_products.index, 'predicted_rating': predicted_ratings})\n",
    "    \n",
    "    # Get top N recommendations\n",
    "    return recommendations.nlargest(num_recommendations, 'predicted_rating')"
   ]
  },
  {
   "cell_type": "code",
   "execution_count": 12,
   "id": "e2702d2c-0979-41f3-82c8-edcacee3309c",
   "metadata": {},
   "outputs": [
    {
     "name": "stdout",
     "output_type": "stream",
     "text": [
      "Recommendations for Customer 269696:\n",
      "        product  predicted_rating\n",
      "10  Non-Fiction          2.776654\n",
      "1          Bath          2.762526\n",
      "8       Kitchen          2.735153\n",
      "5       Fiction          2.725897\n",
      "2      Children          2.671067\n"
     ]
    }
   ],
   "source": [
    "# Example recommendation for a customer\n",
    "customer_id_example = 269696 \n",
    "recommended_products = recommend_products(customer_id_example)\n",
    "print(f'Recommendations for Customer {customer_id_example}:')\n",
    "print(recommended_products)"
   ]
  },
  {
   "cell_type": "code",
   "execution_count": 13,
   "id": "0cc9d781-4fa2-43dc-95ff-cb90c12b17bb",
   "metadata": {},
   "outputs": [],
   "source": [
    " #Evaluate the performance using precision, recall, F1-score, and mean average precision"
   ]
  },
  {
   "cell_type": "code",
   "execution_count": 15,
   "id": "ad38b9c9-258b-4d22-b7e3-2aaae5eed217",
   "metadata": {},
   "outputs": [],
   "source": [
    "true_labels = []\n",
    "predicted_labels = []\n",
    "\n",
    "for uid, iid, true_r, est, _ in predictions:\n",
    "    true_labels.append(true_r)\n",
    "    predicted_labels.append(est)\n",
    "\n",
    "# Convert to numpy arrays for metric calculations\n",
    "true_labels = np.array(true_labels)\n",
    "predicted_labels = np.array(predicted_labels)"
   ]
  },
  {
   "cell_type": "code",
   "execution_count": 16,
   "id": "1984e8d8-e732-4bfd-aefc-75d307ab62d3",
   "metadata": {},
   "outputs": [],
   "source": [
    "# Binarize the predictions based on a threshold (e.g., 0.5) for binary classification metrics\n",
    "threshold = 0.5\n",
    "predicted_labels_binary = (predicted_labels >= threshold).astype(int)\n",
    "true_labels_binary = (true_labels > 0).astype(int) "
   ]
  },
  {
   "cell_type": "code",
   "execution_count": 17,
   "id": "3fcf4ce2-421d-4c08-b684-7a8480e70f97",
   "metadata": {},
   "outputs": [
    {
     "name": "stdout",
     "output_type": "stream",
     "text": [
      "Precision: 0.9202, Recall: 0.9287, F1-score: 0.9245, Mean Average Precision: 0.9193\n"
     ]
    }
   ],
   "source": [
    "# Evaluate the performance using precision, recall, F1-score, and mean average precision\n",
    "precision = precision_score(true_labels_binary, predicted_labels_binary, average='binary')\n",
    "recall = recall_score(true_labels_binary, predicted_labels_binary, average='binary')\n",
    "f1 = f1_score(true_labels_binary, predicted_labels_binary, average='binary')\n",
    "mean_avg_precision = average_precision_score(true_labels_binary, predicted_labels_binary)\n",
    "\n",
    "print(f'Precision: {precision:.4f}, Recall: {recall:.4f}, F1-score: {f1:.4f}, Mean Average Precision: {mean_avg_precision:.4f}')"
   ]
  },
  {
   "cell_type": "code",
   "execution_count": null,
   "id": "c7b4cca9-8a7a-4575-8c83-ebe414ed32aa",
   "metadata": {},
   "outputs": [],
   "source": []
  }
 ],
 "metadata": {
  "kernelspec": {
   "display_name": "Python 3 (ipykernel)",
   "language": "python",
   "name": "python3"
  },
  "language_info": {
   "codemirror_mode": {
    "name": "ipython",
    "version": 3
   },
   "file_extension": ".py",
   "mimetype": "text/x-python",
   "name": "python",
   "nbconvert_exporter": "python",
   "pygments_lexer": "ipython3",
   "version": "3.11.7"
  }
 },
 "nbformat": 4,
 "nbformat_minor": 5
}
